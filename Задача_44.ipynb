{
  "nbformat": 4,
  "nbformat_minor": 0,
  "metadata": {
    "colab": {
      "provenance": [],
      "authorship_tag": "ABX9TyP4kiCocKiRiyqrMQwYt6o1",
      "include_colab_link": true
    },
    "kernelspec": {
      "name": "python3",
      "display_name": "Python 3"
    },
    "language_info": {
      "name": "python"
    }
  },
  "cells": [
    {
      "cell_type": "markdown",
      "metadata": {
        "id": "view-in-github",
        "colab_type": "text"
      },
      "source": [
        "<a href=\"https://colab.research.google.com/github/Olesya2024/Colab_hom/blob/main/%D0%97%D0%B0%D0%B4%D0%B0%D1%87%D0%B0_44.ipynb\" target=\"_parent\"><img src=\"https://colab.research.google.com/assets/colab-badge.svg\" alt=\"Open In Colab\"/></a>"
      ]
    },
    {
      "cell_type": "markdown",
      "source": [
        "Задача 44: В ячейке ниже представлен код генерирующий DataFrame, которая состоит всего из 1 столбца. Ваша задача перевести его в one hot вид. Сможете ли вы это сделать без get_dummies?\n",
        "import random\n",
        "lst = ['robot'] * 10\n",
        "lst += ['human'] * 10\n",
        "random.shuffle(lst)\n",
        "data = pd.DataFrame({'whoAmI':lst})\n",
        "data.head()"
      ],
      "metadata": {
        "id": "TiFI7oVy_j6y"
      }
    },
    {
      "cell_type": "code",
      "source": [
        "import pandas as pd\n",
        "import random"
      ],
      "metadata": {
        "id": "ygZTmLP8_Wdv"
      },
      "execution_count": null,
      "outputs": []
    },
    {
      "cell_type": "code",
      "source": [
        "lst = ['robot'] * 10\n",
        "lst += ['human'] * 10\n",
        "random.shuffle(lst)"
      ],
      "metadata": {
        "id": "XfTFp5Aw_pNM"
      },
      "execution_count": null,
      "outputs": []
    },
    {
      "cell_type": "code",
      "source": [
        "data = pd.DataFrame({'whoAmI': lst})\n",
        "data['robot'] = data['whoAmI'].map({'robot': 1, 'human': 0})\n",
        "data['human'] = 1 - data['robot']\n",
        "print(data.head(20))"
      ],
      "metadata": {
        "colab": {
          "base_uri": "https://localhost:8080/"
        },
        "id": "_JT2g5YPJ85O",
        "outputId": "e3ad8f67-2394-4872-a2a2-1f5b499fc9b6"
      },
      "execution_count": null,
      "outputs": [
        {
          "output_type": "stream",
          "name": "stdout",
          "text": [
            "   whoAmI  robot  human\n",
            "0   robot      1      0\n",
            "1   human      0      1\n",
            "2   robot      1      0\n",
            "3   robot      1      0\n",
            "4   human      0      1\n",
            "5   robot      1      0\n",
            "6   robot      1      0\n",
            "7   human      0      1\n",
            "8   robot      1      0\n",
            "9   human      0      1\n",
            "10  human      0      1\n",
            "11  robot      1      0\n",
            "12  human      0      1\n",
            "13  robot      1      0\n",
            "14  human      0      1\n",
            "15  robot      1      0\n",
            "16  human      0      1\n",
            "17  robot      1      0\n",
            "18  human      0      1\n",
            "19  human      0      1\n"
          ]
        }
      ]
    }
  ]
}